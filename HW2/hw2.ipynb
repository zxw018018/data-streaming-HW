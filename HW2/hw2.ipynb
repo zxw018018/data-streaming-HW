{
 "cells": [
  {
   "cell_type": "code",
   "execution_count": 133,
   "metadata": {
    "collapsed": true
   },
   "outputs": [],
   "source": [
    "file = open(\"test.txt\",\"w\")"
   ]
  },
  {
   "cell_type": "code",
   "execution_count": 134,
   "metadata": {
    "collapsed": true
   },
   "outputs": [],
   "source": [
    "import random\n",
    "for i in range(1, 1000000):\n",
    "    random_num = random.choice(num)\n",
    "    file.write(str(random_num)+'\\n')"
   ]
  },
  {
   "cell_type": "code",
   "execution_count": 135,
   "metadata": {
    "collapsed": true
   },
   "outputs": [],
   "source": [
    "file.close()"
   ]
  },
  {
   "cell_type": "code",
   "execution_count": 23,
   "metadata": {},
   "outputs": [
    {
     "data": {
      "image/png": "[encoded data removed]",
      "text/plain": [
       "<matplotlib.figure.Figure at 0x114a5d690>"
      ]
     },
     "metadata": {},
     "output_type": "display_data"
    }
   ],
   "source": [
    "import matplotlib.pyplot as plt\n",
    "import time\n",
    "num = list()\n",
    "for i in range(1, 101):\n",
    "    num.append(i)\n",
    "throughput = list()\n",
    "selectivity = list()\n",
    "ones = [1]*100\n",
    "line = sc.textFile(\"test.txt\")\n",
    "line = line.map(lambda x:int(x))\n",
    "for i in num:\n",
    "    # do operation A first, then do operation B\n",
    "    time_before_A = time.time()\n",
    "    line_after_A = line.filter(lambda x: x % 2 == 0)    # operation A\n",
    "    time_after_A = time.time()\n",
    "    time_interval_A = time_after_A - time_before_A\n",
    " \n",
    "    time_before_B = time.time()\n",
    "    line_after_B = line_after_A.filter(lambda x: x <= i)   # operation B\n",
    "    time_after_B = time.time()\n",
    "    time_interval_B = time_after_B - time_before_B\n",
    "    \n",
    "    throughput_AB = 1/(time_interval_A + time_interval_B * 0.5)\n",
    "    \n",
    "    # do operation B first, then do operation A\n",
    "    time_before_B = time.time()\n",
    "    line_after_B = line.filter(lambda x: x <= i)    # operation B\n",
    "    time_after_B = time.time()\n",
    "    time_interval_B = time_after_B - time_before_B\n",
    "   \n",
    "    time_before_A = time.time()\n",
    "    line_after_A = line_after_B.filter(lambda x: x % 2 == 0)  # operation A\n",
    "    time_after_A = time.time()\n",
    "    time_interval_A = time_after_A - time_before_A\n",
    "    \n",
    "    throughput_BA = 1/(time_interval_A + time_interval_B * float(i)/100)\n",
    "    \n",
    "    throughput.append(throughput_BA/throughput_AB)\n",
    "    selectivity.append(float(i)/100)\n",
    "\n",
    "\n",
    "plt.figure()\n",
    "line_AB, = plt.plot(selectivity, ones, 'k', label='Not reordered')\n",
    "line_BA, = plt.plot(selectivity, throughput , 'k--', label='Reordered')\n",
    "plt.legend(handles=[line_AB, line_BA])\n",
    "plt.xlabel('Selectivity of B')\n",
    "plt.ylabel('Throughput')\n",
    "plt.title('Selection Reordering')\n",
    "plt.show()"
   ]
  },
  {
   "cell_type": "code",
   "execution_count": null,
   "metadata": {
    "collapsed": true
   },
   "outputs": [],
   "source": []
  },
  {
   "cell_type": "code",
   "execution_count": null,
   "metadata": {
    "collapsed": true
   },
   "outputs": [],
   "source": []
  }
 ],
 "metadata": {
  "kernelspec": {
   "display_name": "Python 2",
   "language": "python",
   "name": "python2"
  },
  "language_info": {
   "codemirror_mode": {
    "name": "ipython",
    "version": 2
   },
   "file_extension": ".py",
   "mimetype": "text/x-python",
   "name": "python",
   "nbconvert_exporter": "python",
   "pygments_lexer": "ipython2",
   "version": "2.7.13"
  }
 },
 "nbformat": 4,
 "nbformat_minor": 2
}
