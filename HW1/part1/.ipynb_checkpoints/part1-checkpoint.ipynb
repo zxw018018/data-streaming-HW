{
 "cells": [
  {
   "cell_type": "markdown",
   "metadata": {},
   "source": [
    "### read file"
   ]
  },
  {
   "cell_type": "code",
   "execution_count": 1,
   "metadata": {},
   "outputs": [
    {
     "data": {
      "text/plain": [
       "2676"
      ]
     },
     "execution_count": 1,
     "metadata": {},
     "output_type": "execute_result"
    }
   ],
   "source": [
    "lines = sc.textFile(\"example1\")\n",
    "lines.count()"
   ]
  },
  {
   "cell_type": "markdown",
   "metadata": {},
   "source": [
    "### filter out all lines that miss bytes "
   ]
  },
  {
   "cell_type": "code",
   "execution_count": 2,
   "metadata": {},
   "outputs": [
    {
     "data": {
      "text/plain": [
       "2398"
      ]
     },
     "execution_count": 2,
     "metadata": {},
     "output_type": "execute_result"
    }
   ],
   "source": [
    "import re\n",
    "newline1 = lines.filter(lambda x: (x.split(' ')[-1].isdigit()))\n",
    "newline1.count()"
   ]
  },
  {
   "cell_type": "markdown",
   "metadata": {},
   "source": [
    "### filter out all lines that not begin with IP address"
   ]
  },
  {
   "cell_type": "code",
   "execution_count": 3,
   "metadata": {},
   "outputs": [
    {
     "data": {
      "text/plain": [
       "299"
      ]
     },
     "execution_count": 3,
     "metadata": {},
     "output_type": "execute_result"
    }
   ],
   "source": [
    "newline2 = newline1.filter(lambda x: ((re.findall(r\"\\b\\d{1,3}\\.\\d{1,3}\\.\\d{1,3}\\.\\d{1,3}\\b\", x.split(' ')[0]))\n",
    "                           and (len(x.split(' ')[0])<16)))\n",
    "newline2.count()"
   ]
  },
  {
   "cell_type": "markdown",
   "metadata": {},
   "source": [
    "### build up map that key=IP address, value=bytes"
   ]
  },
  {
   "cell_type": "code",
   "execution_count": 4,
   "metadata": {},
   "outputs": [
    {
     "data": {
      "text/plain": [
       "299"
      ]
     },
     "execution_count": 4,
     "metadata": {},
     "output_type": "execute_result"
    }
   ],
   "source": [
    "newline3 = newline2.map(lambda x: (x.split(' ')[0] , int(x.split(' ')[-1])))\n",
    "newline3.count()"
   ]
  },
  {
   "cell_type": "markdown",
   "metadata": {},
   "source": [
    "### reduce map by key to get total bytes for each IP address"
   ]
  },
  {
   "cell_type": "code",
   "execution_count": 5,
   "metadata": {
    "collapsed": true
   },
   "outputs": [],
   "source": [
    "data = newline3.reduceByKey(lambda x,y: x+y)"
   ]
  },
  {
   "cell_type": "markdown",
   "metadata": {},
   "source": [
    "### collect all data"
   ]
  },
  {
   "cell_type": "code",
   "execution_count": 6,
   "metadata": {},
   "outputs": [
    {
     "data": {
      "text/plain": [
       "[(u'137.198.11.104', 8705),\n",
       " (u'204.249.225.236', 264310),\n",
       " (u'204.249.225.59', 92508),\n",
       " (u'204.253.122.109', 1710),\n",
       " (u'139.230.21.113', 26812),\n",
       " (u'202.35.208.41', 48757),\n",
       " (u'150.216.66.37', 320994),\n",
       " (u'204.251.230.10', 14383),\n",
       " (u'160.15.28.30', 57680),\n",
       " (u'137.159.8.155', 66944),\n",
       " (u'137.132.148.148', 225476),\n",
       " (u'204.30.205.10', 82393),\n",
       " (u'205.168.106.58', 26876),\n",
       " (u'204.92.51.14', 11610),\n",
       " (u'204.165.216.2', 165),\n",
       " (u'204.181.104.32', 11502),\n",
       " (u'204.249.225.171', 25176),\n",
       " (u'204.50.56.205', 6423),\n",
       " (u'130.34.146.126', 36486),\n",
       " (u'128.126.153.166', 114603),\n",
       " (u'205.136.33.130', 437953),\n",
       " (u'199.4.102.134', 194668),\n",
       " (u'192.204.112.6', 153751),\n",
       " (u'151.161.17.54', 19530),\n",
       " (u'128.250.10.89', 60541),\n",
       " (u'165.113.1.43', 4051),\n",
       " (u'161.139.168.45', 53116),\n",
       " (u'143.166.138.142', 479886),\n",
       " (u'205.177.16.18', 122663),\n",
       " (u'137.110.185.177', 164838)]"
      ]
     },
     "execution_count": 6,
     "metadata": {},
     "output_type": "execute_result"
    }
   ],
   "source": [
    "collectedData = data.collect()\n",
    "collectedData"
   ]
  },
  {
   "cell_type": "markdown",
   "metadata": {},
   "source": [
    "### define a function to search for total bytes corresponding to specific IP address"
   ]
  },
  {
   "cell_type": "code",
   "execution_count": 7,
   "metadata": {
    "collapsed": true
   },
   "outputs": [],
   "source": [
    "def searchByteForIP (IP):\n",
    "    return data.lookup(IP)"
   ]
  },
  {
   "cell_type": "markdown",
   "metadata": {},
   "source": [
    "### test the function"
   ]
  },
  {
   "cell_type": "code",
   "execution_count": 8,
   "metadata": {},
   "outputs": [
    {
     "data": {
      "text/plain": [
       "[264310]"
      ]
     },
     "execution_count": 8,
     "metadata": {},
     "output_type": "execute_result"
    }
   ],
   "source": [
    "searchByteForIP(\"204.249.225.236\")"
   ]
  },
  {
   "cell_type": "code",
   "execution_count": null,
   "metadata": {
    "collapsed": true
   },
   "outputs": [],
   "source": []
  }
 ],
 "metadata": {
  "kernelspec": {
   "display_name": "Python 2",
   "language": "python",
   "name": "python2"
  },
  "language_info": {
   "codemirror_mode": {
    "name": "ipython",
    "version": 2
   },
   "file_extension": ".py",
   "mimetype": "text/x-python",
   "name": "python",
   "nbconvert_exporter": "python",
   "pygments_lexer": "ipython2",
   "version": "2.7.13"
  }
 },
 "nbformat": 4,
 "nbformat_minor": 2
}
