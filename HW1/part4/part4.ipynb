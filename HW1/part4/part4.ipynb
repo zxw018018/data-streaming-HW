{
 "cells": [
  {
   "cell_type": "markdown",
   "metadata": {},
   "source": [
    "### read file"
   ]
  },
  {
   "cell_type": "code",
   "execution_count": 1,
   "metadata": {},
   "outputs": [
    {
     "data": {
      "text/plain": [
       "2687"
      ]
     },
     "execution_count": 1,
     "metadata": {},
     "output_type": "execute_result"
    }
   ],
   "source": [
    "lines = sc.textFile(\"example4\")\n",
    "lines.count()"
   ]
  },
  {
   "cell_type": "markdown",
   "metadata": {},
   "source": [
    "### filter out all lines that miss bytes"
   ]
  },
  {
   "cell_type": "code",
   "execution_count": 2,
   "metadata": {},
   "outputs": [
    {
     "data": {
      "text/plain": [
       "2432"
      ]
     },
     "execution_count": 2,
     "metadata": {},
     "output_type": "execute_result"
    }
   ],
   "source": [
    "import re\n",
    "newline1 = lines.filter(lambda x: (x.split(' ')[-1].isdigit()))\n",
    "newline1.count()"
   ]
  },
  {
   "cell_type": "markdown",
   "metadata": {},
   "source": [
    "### filter out all lines that not begin with IP address"
   ]
  },
  {
   "cell_type": "code",
   "execution_count": 3,
   "metadata": {},
   "outputs": [
    {
     "data": {
      "text/plain": [
       "317"
      ]
     },
     "execution_count": 3,
     "metadata": {},
     "output_type": "execute_result"
    }
   ],
   "source": [
    "newline2 = newline1.filter(lambda x: ((re.findall(r\"\\b\\d{1,3}\\.\\d{1,3}\\.\\d{1,3}\\.\\d{1,3}\\b\", x.split(' ')[0]))\n",
    "                           and (len(x.split(' ')[0])<16)))\n",
    "newline2.count()"
   ]
  },
  {
   "cell_type": "markdown",
   "metadata": {},
   "source": [
    "### build up map that key=IP address, value=bytes and change 4th byte of IP address to * "
   ]
  },
  {
   "cell_type": "code",
   "execution_count": 4,
   "metadata": {},
   "outputs": [
    {
     "data": {
      "text/plain": [
       "317"
      ]
     },
     "execution_count": 4,
     "metadata": {},
     "output_type": "execute_result"
    }
   ],
   "source": [
    "def mapFunc1(x):\n",
    "    ipSplit = x.split(' ')[0].split('.')\n",
    "    ip = ipSplit[0] + '.' + ipSplit[1] + '.' + ipSplit[2] + '.' + '*'\n",
    "    return (ip, int(x.split(' ')[-1]))\n",
    "newline3 = newline2.map(mapFunc1)\n",
    "newline3.count()"
   ]
  },
  {
   "cell_type": "markdown",
   "metadata": {},
   "source": [
    "### reduce map by key to get total bytes for each IP address"
   ]
  },
  {
   "cell_type": "code",
   "execution_count": 5,
   "metadata": {},
   "outputs": [
    {
     "data": {
      "text/plain": [
       "62"
      ]
     },
     "execution_count": 5,
     "metadata": {},
     "output_type": "execute_result"
    }
   ],
   "source": [
    "newline4 = newline3.reduceByKey(lambda x,y: x+y)\n",
    "newline4.count()"
   ]
  },
  {
   "cell_type": "markdown",
   "metadata": {},
   "source": [
    "### sort bytes in descending order"
   ]
  },
  {
   "cell_type": "code",
   "execution_count": 6,
   "metadata": {},
   "outputs": [
    {
     "data": {
      "text/plain": [
       "62"
      ]
     },
     "execution_count": 6,
     "metadata": {},
     "output_type": "execute_result"
    }
   ],
   "source": [
    "data = newline4.sortBy(lambda x: x[1],ascending=False)\n",
    "data.count()"
   ]
  },
  {
   "cell_type": "markdown",
   "metadata": {},
   "source": [
    "### collect all data"
   ]
  },
  {
   "cell_type": "code",
   "execution_count": 7,
   "metadata": {},
   "outputs": [
    {
     "data": {
      "text/plain": [
       "[(u'141.222.99.*', 358416),\n",
       " (u'129.62.2.*', 208502),\n",
       " (u'192.213.197.*', 165303),\n",
       " (u'138.26.156.*', 134060),\n",
       " (u'131.178.34.*', 125713),\n",
       " (u'165.13.31.*', 116218),\n",
       " (u'166.109.200.*', 109097),\n",
       " (u'199.3.230.*', 88713),\n",
       " (u'140.129.91.*', 75749),\n",
       " (u'130.99.25.*', 73757),\n",
       " (u'128.251.86.*', 73609),\n",
       " (u'204.249.225.*', 71350),\n",
       " (u'205.138.107.*', 62312),\n",
       " (u'128.250.10.*', 60541),\n",
       " (u'203.66.253.*', 60270),\n",
       " (u'138.232.245.*', 59454),\n",
       " (u'160.15.28.*', 57680),\n",
       " (u'146.138.34.*', 51268),\n",
       " (u'194.92.142.*', 41341),\n",
       " (u'139.230.21.*', 37894),\n",
       " (u'148.234.16.*', 36678),\n",
       " (u'130.34.146.*', 36486),\n",
       " (u'157.132.102.*', 36088),\n",
       " (u'147.248.11.*', 35705),\n",
       " (u'146.142.224.*', 34655),\n",
       " (u'204.160.181.*', 34619),\n",
       " (u'152.71.11.*', 34619),\n",
       " (u'140.150.93.*', 31209),\n",
       " (u'136.205.92.*', 28802),\n",
       " (u'204.245.131.*', 27993),\n",
       " (u'205.168.106.*', 26876),\n",
       " (u'131.183.20.*', 23808),\n",
       " (u'151.161.17.*', 19530),\n",
       " (u'128.175.60.*', 19485),\n",
       " (u'204.120.34.*', 18105),\n",
       " (u'198.145.80.*', 18102),\n",
       " (u'160.221.6.*', 14179),\n",
       " (u'147.124.4.*', 11610),\n",
       " (u'194.170.2.*', 11610),\n",
       " (u'165.247.68.*', 11234),\n",
       " (u'137.91.25.*', 10302),\n",
       " (u'138.172.19.*', 8705),\n",
       " (u'137.198.11.*', 8705),\n",
       " (u'132.156.94.*', 7433),\n",
       " (u'204.50.56.*', 6423),\n",
       " (u'169.207.5.*', 4356),\n",
       " (u'165.113.1.*', 4051),\n",
       " (u'205.218.4.*', 3999),\n",
       " (u'149.243.227.*', 3346),\n",
       " (u'166.42.66.*', 3292),\n",
       " (u'164.145.111.*', 3020),\n",
       " (u'162.114.203.*', 2287),\n",
       " (u'132.254.56.*', 1962),\n",
       " (u'204.253.122.*', 1710),\n",
       " (u'192.176.123.*', 1710),\n",
       " (u'198.209.88.*', 1514),\n",
       " (u'199.77.64.*', 1452),\n",
       " (u'163.191.128.*', 841),\n",
       " (u'147.221.29.*', 654),\n",
       " (u'192.150.109.*', 547),\n",
       " (u'202.42.231.*', 360),\n",
       " (u'204.165.216.*', 165)]"
      ]
     },
     "execution_count": 7,
     "metadata": {},
     "output_type": "execute_result"
    }
   ],
   "source": [
    "data.collect()"
   ]
  },
  {
   "cell_type": "markdown",
   "metadata": {},
   "source": [
    "### get the initial timestamp"
   ]
  },
  {
   "cell_type": "code",
   "execution_count": 8,
   "metadata": {
    "collapsed": true
   },
   "outputs": [],
   "source": [
    "import time\n",
    "firstLine = newline2.take(1)[0]\n",
    "initialTime = int(time.mktime(time.strptime(firstLine.split(' ')[3].split('[')[1], \"%d/%b/%Y:%H:%M:%S\")))"
   ]
  },
  {
   "cell_type": "markdown",
   "metadata": {},
   "source": [
    "### build up map that key=(IP address, hours from initial), value=bytes and change 4th byte of IP address to *"
   ]
  },
  {
   "cell_type": "code",
   "execution_count": 9,
   "metadata": {},
   "outputs": [
    {
     "data": {
      "text/plain": [
       "317"
      ]
     },
     "execution_count": 9,
     "metadata": {},
     "output_type": "execute_result"
    }
   ],
   "source": [
    "def mapFunc2(x):\n",
    "    ipSplit = x.split(' ')[0].split('.')\n",
    "    IP = ipSplit[0] + '.' + ipSplit[1] + '.' + ipSplit[2] + '.' + '*'\n",
    "    seconds = int(time.mktime(time.strptime(x.split(' ')[3].split('[')[1], \"%d/%b/%Y:%H:%M:%S\")))-initialTime\n",
    "    bytes = int(x.split(' ')[-1])\n",
    "    Hour = seconds/3600\n",
    "    return (IP, Hour), bytes\n",
    "newline5 = newline2.map(mapFunc2)\n",
    "newline5.count()"
   ]
  },
  {
   "cell_type": "markdown",
   "metadata": {},
   "source": [
    "### reduce map by key to get total bytes for each IP address and each hour"
   ]
  },
  {
   "cell_type": "code",
   "execution_count": 10,
   "metadata": {},
   "outputs": [
    {
     "data": {
      "text/plain": [
       "62"
      ]
     },
     "execution_count": 10,
     "metadata": {},
     "output_type": "execute_result"
    }
   ],
   "source": [
    "dataHour = newline5.reduceByKey(lambda x,y: x+y)\n",
    "dataHour.count()"
   ]
  },
  {
   "cell_type": "markdown",
   "metadata": {},
   "source": [
    "### sort hour in ascending order ( 0 represents during the first hour)"
   ]
  },
  {
   "cell_type": "code",
   "execution_count": 11,
   "metadata": {},
   "outputs": [
    {
     "data": {
      "text/plain": [
       "[((u'130.34.146.*', 0), 36486),\n",
       " ((u'204.165.216.*', 0), 165),\n",
       " ((u'160.15.28.*', 0), 57680),\n",
       " ((u'204.253.122.*', 0), 1710),\n",
       " ((u'205.168.106.*', 0), 26876),\n",
       " ((u'165.113.1.*', 0), 4051),\n",
       " ((u'128.250.10.*', 0), 60541),\n",
       " ((u'204.249.225.*', 0), 71350),\n",
       " ((u'204.50.56.*', 0), 6423),\n",
       " ((u'151.161.17.*', 0), 19530),\n",
       " ((u'137.198.11.*', 0), 8705),\n",
       " ((u'138.26.156.*', 40), 134060),\n",
       " ((u'136.205.92.*', 40), 28802),\n",
       " ((u'147.248.11.*', 40), 35705),\n",
       " ((u'204.160.181.*', 40), 34619),\n",
       " ((u'128.175.60.*', 40), 19485),\n",
       " ((u'131.178.34.*', 40), 125713),\n",
       " ((u'132.254.56.*', 40), 1962),\n",
       " ((u'205.138.107.*', 40), 62312),\n",
       " ((u'163.191.128.*', 40), 841),\n",
       " ((u'146.142.224.*', 40), 34655),\n",
       " ((u'128.251.86.*', 40), 73609),\n",
       " ((u'192.150.109.*', 40), 547),\n",
       " ((u'131.183.20.*', 40), 23808),\n",
       " ((u'165.13.31.*', 40), 116218),\n",
       " ((u'162.114.203.*', 40), 2287),\n",
       " ((u'164.145.111.*', 40), 3020),\n",
       " ((u'165.247.68.*', 40), 11234),\n",
       " ((u'140.129.91.*', 59), 75749),\n",
       " ((u'205.218.4.*', 59), 3999),\n",
       " ((u'149.243.227.*', 59), 3346),\n",
       " ((u'132.156.94.*', 59), 7433),\n",
       " ((u'192.176.123.*', 59), 1710),\n",
       " ((u'204.245.131.*', 59), 27993),\n",
       " ((u'160.221.6.*', 59), 14179),\n",
       " ((u'152.71.11.*', 59), 34619),\n",
       " ((u'138.172.19.*', 59), 8705),\n",
       " ((u'129.62.2.*', 59), 208502),\n",
       " ((u'166.42.66.*', 59), 3292),\n",
       " ((u'147.124.4.*', 59), 11610),\n",
       " ((u'166.109.200.*', 59), 109097),\n",
       " ((u'146.138.34.*', 59), 51268),\n",
       " ((u'147.221.29.*', 59), 654),\n",
       " ((u'130.99.25.*', 59), 73757),\n",
       " ((u'148.234.16.*', 139), 36678),\n",
       " ((u'140.150.93.*', 139), 31209),\n",
       " ((u'198.209.88.*', 139), 1514),\n",
       " ((u'157.132.102.*', 139), 36088),\n",
       " ((u'204.120.34.*', 139), 18105),\n",
       " ((u'199.3.230.*', 139), 88713),\n",
       " ((u'199.77.64.*', 139), 1452),\n",
       " ((u'141.222.99.*', 150), 358416),\n",
       " ((u'198.145.80.*', 150), 18102),\n",
       " ((u'194.92.142.*', 150), 41341),\n",
       " ((u'202.42.231.*', 150), 360),\n",
       " ((u'192.213.197.*', 150), 165303),\n",
       " ((u'169.207.5.*', 150), 4356),\n",
       " ((u'139.230.21.*', 150), 37894),\n",
       " ((u'138.232.245.*', 150), 59454),\n",
       " ((u'203.66.253.*', 150), 60270),\n",
       " ((u'194.170.2.*', 150), 11610),\n",
       " ((u'137.91.25.*', 150), 10302)]"
      ]
     },
     "execution_count": 11,
     "metadata": {},
     "output_type": "execute_result"
    }
   ],
   "source": [
    "sortedData = dataHour.sortBy(lambda x: x[0][1])\n",
    "sortedData.collect()"
   ]
  },
  {
   "cell_type": "markdown",
   "metadata": {},
   "source": [
    "### define a function to search for total bytes corresponding to specific IP address"
   ]
  },
  {
   "cell_type": "code",
   "execution_count": 12,
   "metadata": {
    "collapsed": true
   },
   "outputs": [],
   "source": [
    "def searchByteForIP (IP):\n",
    "    return data.lookup(IP)"
   ]
  },
  {
   "cell_type": "markdown",
   "metadata": {},
   "source": [
    "### test searchByteForIP function"
   ]
  },
  {
   "cell_type": "code",
   "execution_count": 13,
   "metadata": {},
   "outputs": [
    {
     "data": {
      "text/plain": [
       "[3999]"
      ]
     },
     "execution_count": 13,
     "metadata": {},
     "output_type": "execute_result"
    }
   ],
   "source": [
    "searchByteForIP(\"205.218.4.*\")"
   ]
  },
  {
   "cell_type": "markdown",
   "metadata": {},
   "source": [
    "### define a function to return the top-K IPs that were served the most number of bytes"
   ]
  },
  {
   "cell_type": "code",
   "execution_count": 14,
   "metadata": {
    "collapsed": true
   },
   "outputs": [],
   "source": [
    "def topKIP (K):\n",
    "    result = []\n",
    "    for x in data.take(K):\n",
    "        result.append(x[0])\n",
    "    return result"
   ]
  },
  {
   "cell_type": "markdown",
   "metadata": {},
   "source": [
    "### test topKIP function"
   ]
  },
  {
   "cell_type": "code",
   "execution_count": 15,
   "metadata": {},
   "outputs": [
    {
     "data": {
      "text/plain": [
       "[u'141.222.99.*',\n",
       " u'129.62.2.*',\n",
       " u'192.213.197.*',\n",
       " u'138.26.156.*',\n",
       " u'131.178.34.*']"
      ]
     },
     "execution_count": 15,
     "metadata": {},
     "output_type": "execute_result"
    }
   ],
   "source": [
    "topKIP(5)"
   ]
  },
  {
   "cell_type": "markdown",
   "metadata": {},
   "source": [
    "### define a function to return total number of bytes for specific IP and hour"
   ]
  },
  {
   "cell_type": "code",
   "execution_count": 16,
   "metadata": {
    "collapsed": true
   },
   "outputs": [],
   "source": [
    "def searchByteForIPAndHour(IP, hour):\n",
    "    return sortedData.lookup((IP, hour))"
   ]
  },
  {
   "cell_type": "markdown",
   "metadata": {},
   "source": [
    "### test searchByteForIPAndHour function"
   ]
  },
  {
   "cell_type": "code",
   "execution_count": 17,
   "metadata": {},
   "outputs": [
    {
     "data": {
      "text/plain": [
       "[14179]"
      ]
     },
     "execution_count": 17,
     "metadata": {},
     "output_type": "execute_result"
    }
   ],
   "source": [
    "searchByteForIPAndHour('160.221.6.*', 59)"
   ]
  },
  {
   "cell_type": "code",
   "execution_count": null,
   "metadata": {
    "collapsed": true
   },
   "outputs": [],
   "source": []
  }
 ],
 "metadata": {
  "kernelspec": {
   "display_name": "Python 2",
   "language": "python",
   "name": "python2"
  },
  "language_info": {
   "codemirror_mode": {
    "name": "ipython",
    "version": 2
   },
   "file_extension": ".py",
   "mimetype": "text/x-python",
   "name": "python",
   "nbconvert_exporter": "python",
   "pygments_lexer": "ipython2",
   "version": "2.7.13"
  }
 },
 "nbformat": 4,
 "nbformat_minor": 2
}
