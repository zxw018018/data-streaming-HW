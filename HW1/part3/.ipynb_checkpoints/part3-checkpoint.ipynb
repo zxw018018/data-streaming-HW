{
 "cells": [
  {
   "cell_type": "markdown",
   "metadata": {},
   "source": [
    "### read file"
   ]
  },
  {
   "cell_type": "code",
   "execution_count": 1,
   "metadata": {},
   "outputs": [
    {
     "data": {
      "text/plain": [
       "1151"
      ]
     },
     "execution_count": 1,
     "metadata": {},
     "output_type": "execute_result"
    }
   ],
   "source": [
    "lines = sc.textFile(\"example3\")\n",
    "lines.count()"
   ]
  },
  {
   "cell_type": "markdown",
   "metadata": {},
   "source": [
    "### filter out all lines that miss bytes"
   ]
  },
  {
   "cell_type": "code",
   "execution_count": 2,
   "metadata": {},
   "outputs": [
    {
     "data": {
      "text/plain": [
       "991"
      ]
     },
     "execution_count": 2,
     "metadata": {},
     "output_type": "execute_result"
    }
   ],
   "source": [
    "import re\n",
    "newline1 = lines.filter(lambda x: (x.split(' ')[-1].isdigit()))\n",
    "newline1.count()"
   ]
  },
  {
   "cell_type": "markdown",
   "metadata": {},
   "source": [
    "### filter out all lines that not begin with IP address"
   ]
  },
  {
   "cell_type": "code",
   "execution_count": 3,
   "metadata": {},
   "outputs": [
    {
     "data": {
      "text/plain": [
       "155"
      ]
     },
     "execution_count": 3,
     "metadata": {},
     "output_type": "execute_result"
    }
   ],
   "source": [
    "newline2 = newline1.filter(lambda x: ((re.findall(r\"\\b\\d{1,3}\\.\\d{1,3}\\.\\d{1,3}\\.\\d{1,3}\\b\", x.split(' ')[0]))\n",
    "                           and (len(x.split(' ')[0])<16)))\n",
    "newline2.count()"
   ]
  },
  {
   "cell_type": "markdown",
   "metadata": {},
   "source": [
    "### get the initial timestamp"
   ]
  },
  {
   "cell_type": "code",
   "execution_count": 4,
   "metadata": {
    "collapsed": true
   },
   "outputs": [],
   "source": [
    "import time\n",
    "firstLine = newline2.take(1)[0]\n",
    "initialTime = int(time.mktime(time.strptime(firstLine.split(' ')[3].split('[')[1], \"%d/%b/%Y:%H:%M:%S\")))"
   ]
  },
  {
   "cell_type": "markdown",
   "metadata": {},
   "source": [
    "### build up map that key=(IP address, hours from initial), value=bytes"
   ]
  },
  {
   "cell_type": "code",
   "execution_count": 5,
   "metadata": {},
   "outputs": [
    {
     "data": {
      "text/plain": [
       "155"
      ]
     },
     "execution_count": 5,
     "metadata": {},
     "output_type": "execute_result"
    }
   ],
   "source": [
    "def mapFunc(x):\n",
    "    IP = x.split(' ')[0]\n",
    "    seconds = int(time.mktime(time.strptime(x.split(' ')[3].split('[')[1], \"%d/%b/%Y:%H:%M:%S\")))-initialTime\n",
    "    bytes = int(x.split(' ')[-1])\n",
    "    Hour = seconds/3600\n",
    "    return (IP, Hour), bytes\n",
    "newline3 = newline2.map(mapFunc)\n",
    "newline3.count()"
   ]
  },
  {
   "cell_type": "markdown",
   "metadata": {},
   "source": [
    "### reduce map by key to get total bytes for each IP address and each hour"
   ]
  },
  {
   "cell_type": "code",
   "execution_count": 6,
   "metadata": {},
   "outputs": [
    {
     "data": {
      "text/plain": [
       "35"
      ]
     },
     "execution_count": 6,
     "metadata": {},
     "output_type": "execute_result"
    }
   ],
   "source": [
    "data = newline3.reduceByKey(lambda x,y: x+y)\n",
    "data.count()"
   ]
  },
  {
   "cell_type": "markdown",
   "metadata": {},
   "source": [
    "### sort hour in ascending order ( 0 represents during the first hour)"
   ]
  },
  {
   "cell_type": "code",
   "execution_count": 7,
   "metadata": {},
   "outputs": [
    {
     "data": {
      "text/plain": [
       "[((u'205.168.106.58', 0), 26876),\n",
       " ((u'137.198.11.104', 0), 8705),\n",
       " ((u'204.50.56.205', 0), 6423),\n",
       " ((u'204.165.216.2', 0), 165),\n",
       " ((u'204.249.225.59', 0), 46174),\n",
       " ((u'204.249.225.171', 0), 25176),\n",
       " ((u'160.15.28.30', 0), 57680),\n",
       " ((u'204.253.122.109', 0), 1710),\n",
       " ((u'165.113.1.43', 0), 4051),\n",
       " ((u'130.34.146.126', 0), 36486),\n",
       " ((u'128.250.10.89', 0), 60541),\n",
       " ((u'151.161.17.54', 0), 19530),\n",
       " ((u'132.156.94.228', 59), 7433),\n",
       " ((u'138.172.19.207', 59), 8705),\n",
       " ((u'130.99.25.166', 59), 73757),\n",
       " ((u'152.71.11.72', 59), 34619),\n",
       " ((u'147.124.4.1', 59), 11610),\n",
       " ((u'140.129.91.63', 59), 75749),\n",
       " ((u'166.109.200.15', 59), 109097),\n",
       " ((u'205.218.4.10', 59), 3999),\n",
       " ((u'146.138.34.189', 59), 51268),\n",
       " ((u'129.62.2.215', 59), 208502),\n",
       " ((u'149.243.227.9', 59), 3346),\n",
       " ((u'204.245.131.17', 59), 27993),\n",
       " ((u'147.221.29.251', 59), 654),\n",
       " ((u'160.221.6.177', 59), 14179),\n",
       " ((u'192.176.123.13', 59), 1710),\n",
       " ((u'166.42.66.69', 59), 3292),\n",
       " ((u'204.120.34.249', 139), 18105),\n",
       " ((u'148.234.16.81', 139), 36678),\n",
       " ((u'199.77.64.3', 139), 1452),\n",
       " ((u'157.132.102.115', 139), 36088),\n",
       " ((u'198.209.88.37', 139), 1514),\n",
       " ((u'140.150.93.191', 139), 31209),\n",
       " ((u'199.3.230.49', 139), 88713)]"
      ]
     },
     "execution_count": 7,
     "metadata": {},
     "output_type": "execute_result"
    }
   ],
   "source": [
    "sortedData = data.sortBy(lambda x: x[0][1])\n",
    "sortedData.collect()"
   ]
  },
  {
   "cell_type": "markdown",
   "metadata": {},
   "source": [
    "### define a function to return total number of bytes for specific IP and hour"
   ]
  },
  {
   "cell_type": "code",
   "execution_count": 8,
   "metadata": {
    "collapsed": true
   },
   "outputs": [],
   "source": [
    "def searchByteForIPAndHour(IP, hour):\n",
    "    return sortedData.lookup((IP, hour))"
   ]
  },
  {
   "cell_type": "markdown",
   "metadata": {},
   "source": [
    "### test the function"
   ]
  },
  {
   "cell_type": "code",
   "execution_count": 9,
   "metadata": {},
   "outputs": [
    {
     "data": {
      "text/plain": [
       "[14179]"
      ]
     },
     "execution_count": 9,
     "metadata": {},
     "output_type": "execute_result"
    }
   ],
   "source": [
    "searchByteForIPAndHour('160.221.6.177', 59)"
   ]
  },
  {
   "cell_type": "code",
   "execution_count": null,
   "metadata": {
    "collapsed": true
   },
   "outputs": [],
   "source": []
  }
 ],
 "metadata": {
  "kernelspec": {
   "display_name": "Python 2",
   "language": "python",
   "name": "python2"
  },
  "language_info": {
   "codemirror_mode": {
    "name": "ipython",
    "version": 2
   },
   "file_extension": ".py",
   "mimetype": "text/x-python",
   "name": "python",
   "nbconvert_exporter": "python",
   "pygments_lexer": "ipython2",
   "version": "2.7.13"
  }
 },
 "nbformat": 4,
 "nbformat_minor": 2
}
